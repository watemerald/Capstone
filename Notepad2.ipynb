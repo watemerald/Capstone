{
 "cells": [
  {
   "cell_type": "code",
   "execution_count": 3,
   "metadata": {},
   "outputs": [],
   "source": []
  },
  {
   "cell_type": "code",
   "execution_count": 10,
   "metadata": {},
   "outputs": [
    {
     "name": "stdout",
     "output_type": "stream",
     "text": [
      "RGB/feature/timestamp\n",
      "AUDIO/feature/floats\n",
      "RGB/feature/floats\n",
      "AUDIO/feature/timestamp\n"
     ]
    }
   ],
   "source": [
    "for k in example.feature_lists.feature_list.keys():\n",
    "    print(k)"
   ]
  },
  {
   "cell_type": "code",
   "execution_count": 14,
   "metadata": {},
   "outputs": [],
   "source": [
    "a = example.feature_lists.feature_list[\"RGB/feature/floats\"].feature"
   ]
  },
  {
   "cell_type": "code",
   "execution_count": 21,
   "metadata": {},
   "outputs": [
    {
     "data": {
      "text/plain": [
       "1024"
      ]
     },
     "execution_count": 21,
     "metadata": {},
     "output_type": "execute_result"
    }
   ],
   "source": [
    "a[0].float_list.value"
   ]
  },
  {
   "cell_type": "code",
   "execution_count": 80,
   "metadata": {},
   "outputs": [],
   "source": [
    "import subprocess\n",
    "import shlex\n",
    "import os\n",
    "import tempfile"
   ]
  },
  {
   "cell_type": "code",
   "execution_count": 81,
   "metadata": {},
   "outputs": [],
   "source": [
    "def run_process(cmd: str):\n",
    "    return subprocess.run(shlex.split(cmd), stdout=subprocess.PIPE)"
   ]
  },
  {
   "cell_type": "code",
   "execution_count": 82,
   "metadata": {},
   "outputs": [],
   "source": [
    "temp_dir = tempfile.TemporaryDirectory()"
   ]
  },
  {
   "cell_type": "code",
   "execution_count": 83,
   "metadata": {},
   "outputs": [
    {
     "data": {
      "text/plain": [
       "CompletedProcess(args=['docker', 'run', '-dit', '-v', '/tmp/tmptzeuev0m:/v_folder', '--name', 'mediapipe', 'mediapipe:latest'], returncode=0, stdout=b'699fc0d213b05c84b7d7106f3bac395d09bb4397c8bace28899deaf7ff428151\\n')"
      ]
     },
     "execution_count": 83,
     "metadata": {},
     "output_type": "execute_result"
    }
   ],
   "source": [
    "# Start Docker container\n",
    "SHARED_FOLDER = temp_dir.name\n",
    "\n",
    "cmd = f\"docker run -dit -v {SHARED_FOLDER}:/v_folder --name mediapipe mediapipe:latest\"\n",
    "subprocess.run(shlex.split(cmd), stdout=subprocess.PIPE)"
   ]
  },
  {
   "cell_type": "code",
   "execution_count": 84,
   "metadata": {},
   "outputs": [
    {
     "data": {
      "text/plain": [
       "CompletedProcess(args=['youtube-dl', '-f', 'bestvideo[ext=mp4]+bestaudio[ext=m4a]/mp4', 'https://www.youtube.com/watch?v=ico-nsXqvCg', '-o', '/tmp/tmptzeuev0m/vid.mp4'], returncode=0, stdout=b'[youtube] ico-nsXqvCg: Downloading webpage\\n[download] Destination: /tmp/tmptzeuev0m/vid.f137.mp4\\n\\r\\x1b[K[download]   0.0% of 20.10MiB at 989.69KiB/s ETA 00:21\\r\\x1b[K[download]   0.0% of 20.10MiB at  2.60MiB/s ETA 00:07\\r\\x1b[K[download]   0.0% of 20.10MiB at  5.64MiB/s ETA 00:03\\r\\x1b[K[download]   0.1% of 20.10MiB at 11.21MiB/s ETA 00:01\\r\\x1b[K[download]   0.2% of 20.10MiB at  7.85MiB/s ETA 00:02\\r\\x1b[K[download]   0.3% of 20.10MiB at  4.11MiB/s ETA 00:04\\r\\x1b[K[download]   0.6% of 20.10MiB at  4.91MiB/s ETA 00:04\\r\\x1b[K[download]   1.2% of 20.10MiB at  4.30MiB/s ETA 00:04\\r\\x1b[K[download]   2.5% of 20.10MiB at  5.34MiB/s ETA 00:03\\r\\x1b[K[download]   5.0% of 20.10MiB at  6.99MiB/s ETA 00:02\\r\\x1b[K[download]   9.9% of 20.10MiB at  6.79MiB/s ETA 00:02\\r\\x1b[K[download]  19.9% of 20.10MiB at  6.86MiB/s ETA 00:02\\r\\x1b[K[download]  39.8% of 20.10MiB at  1.86MiB/s ETA 00:06\\r\\x1b[K[download]  47.9% of 20.10MiB at  1.39MiB/s ETA 00:07\\r\\x1b[K[download]  47.9% of 20.10MiB at 921.42KiB/s ETA 00:11\\r\\x1b[K[download]  47.9% of 20.10MiB at  2.48MiB/s ETA 00:04\\r\\x1b[K[download]  47.9% of 20.10MiB at  5.40MiB/s ETA 00:01\\r\\x1b[K[download]  48.0% of 20.10MiB at 10.57MiB/s ETA 00:00\\r\\x1b[K[download]  48.0% of 20.10MiB at  3.33MiB/s ETA 00:03\\r\\x1b[K[download]  48.2% of 20.10MiB at  4.64MiB/s ETA 00:02\\r\\x1b[K[download]  48.5% of 20.10MiB at  4.16MiB/s ETA 00:02\\r\\x1b[K[download]  49.1% of 20.10MiB at  5.03MiB/s ETA 00:02\\r\\x1b[K[download]  50.4% of 20.10MiB at  6.31MiB/s ETA 00:01\\r\\x1b[K[download]  52.9% of 20.10MiB at  6.21MiB/s ETA 00:01\\r\\x1b[K[download]  57.8% of 20.10MiB at  5.76MiB/s ETA 00:01\\r\\x1b[K[download]  67.8% of 20.10MiB at  3.44MiB/s ETA 00:01\\r\\x1b[K[download]  80.0% of 20.10MiB at  1.54MiB/s ETA 00:02\\r\\x1b[K[download]  86.1% of 20.10MiB at  1.31MiB/s ETA 00:02\\r\\x1b[K[download]  89.7% of 20.10MiB at  1.24MiB/s ETA 00:01\\r\\x1b[K[download]  93.7% of 20.10MiB at  1.21MiB/s ETA 00:01\\r\\x1b[K[download]  95.8% of 20.10MiB at  1.18MiB/s ETA 00:00\\r\\x1b[K[download]  95.8% of 20.10MiB at 726.29KiB/s ETA 00:01\\r\\x1b[K[download]  95.8% of 20.10MiB at  1.97MiB/s ETA 00:00\\r\\x1b[K[download]  95.8% of 20.10MiB at  4.34MiB/s ETA 00:00\\r\\x1b[K[download]  95.8% of 20.10MiB at  8.73MiB/s ETA 00:00\\r\\x1b[K[download]  95.9% of 20.10MiB at  3.34MiB/s ETA 00:00\\r\\x1b[K[download]  96.1% of 20.10MiB at  4.64MiB/s ETA 00:00\\r\\x1b[K[download]  96.4% of 20.10MiB at  5.46MiB/s ETA 00:00\\r\\x1b[K[download]  97.0% of 20.10MiB at  4.71MiB/s ETA 00:00\\r\\x1b[K[download]  98.2% of 20.10MiB at  6.80MiB/s ETA 00:00\\r\\x1b[K[download] 100.0% of 20.10MiB at  6.19MiB/s ETA 00:00\\r\\x1b[K[download] 100% of 20.10MiB in 00:15\\n[download] Destination: /tmp/tmptzeuev0m/vid.mp4.f140\\n\\r\\x1b[K[download]   0.0% of 4.06MiB at 799.83KiB/s ETA 00:05\\r\\x1b[K[download]   0.1% of 4.06MiB at  2.15MiB/s ETA 00:01\\r\\x1b[K[download]   0.2% of 4.06MiB at  4.72MiB/s ETA 00:00\\r\\x1b[K[download]   0.4% of 4.06MiB at  9.55MiB/s ETA 00:00\\r\\x1b[K[download]   0.7% of 4.06MiB at  1.94MiB/s ETA 00:02\\r\\x1b[K[download]   1.5% of 4.06MiB at  2.96MiB/s ETA 00:01\\r\\x1b[K[download]   3.1% of 4.06MiB at  2.82MiB/s ETA 00:01\\r\\x1b[K[download]   6.1% of 4.06MiB at  4.57MiB/s ETA 00:00\\r\\x1b[K[download]  12.3% of 4.06MiB at  5.52MiB/s ETA 00:00\\r\\x1b[K[download]  24.6% of 4.06MiB at  4.55MiB/s ETA 00:00\\r\\x1b[K[download]  49.2% of 4.06MiB at  4.63MiB/s ETA 00:00\\r\\x1b[K[download]  98.5% of 4.06MiB at  2.21MiB/s ETA 00:00\\r\\x1b[K[download] 100.0% of 4.06MiB at  2.15MiB/s ETA 00:00\\r\\x1b[K[download] 100% of 4.06MiB in 00:01\\n[ffmpeg] Merging formats into \"/tmp/tmptzeuev0m/vid.mp4\"\\nDeleting original file /tmp/tmptzeuev0m/vid.f137.mp4 (pass -k to keep)\\nDeleting original file /tmp/tmptzeuev0m/vid.mp4.f140 (pass -k to keep)\\n')"
      ]
     },
     "execution_count": 84,
     "metadata": {},
     "output_type": "execute_result"
    }
   ],
   "source": [
    "# Download youtube video\n",
    "\n",
    "video_out = os.path.join(temp_dir.name, 'vid.mp4')\n",
    "\n",
    "url = \"https://www.youtube.com/watch?v=ico-nsXqvCg\"\n",
    "cmd = f\"youtube-dl -f 'bestvideo[ext=mp4]+bestaudio[ext=m4a]/mp4' '{url}' -o {video_out}\"\n",
    "run_process(cmd)"
   ]
  },
  {
   "cell_type": "code",
   "execution_count": 89,
   "metadata": {},
   "outputs": [
    {
     "data": {
      "text/plain": [
       "CompletedProcess(args=['docker', 'exec', 'mediapipe', 'python', '-m', 'mediapipe.examples.desktop.youtube8m.generate_input_sequence_example', '--path_to_input_video=/v_folder/vid.mp4', '--clip_end_time_sec=600'], returncode=0, stdout=b'')"
      ]
     },
     "execution_count": 89,
     "metadata": {},
     "output_type": "execute_result"
    }
   ],
   "source": [
    "# Build and run the inference on the provided file\n",
    "\n",
    "cmd = f\"docker exec mediapipe python -m mediapipe.examples.desktop.youtube8m.generate_input_sequence_example \\\n",
    "  --path_to_input_video=/v_folder/vid.mp4 \\\n",
    "  --clip_end_time_sec=600\"\n",
    "\n",
    "run_process(cmd)"
   ]
  },
  {
   "cell_type": "code",
   "execution_count": 90,
   "metadata": {},
   "outputs": [
    {
     "data": {
      "text/plain": [
       "CompletedProcess(args=['docker', 'exec', 'mediapipe', 'bazel', 'build', '-c', 'opt', '--linkopt=-s', '--define', 'MEDIAPIPE_DISABLE_GPU=1', '--define', 'no_aws_support=true', 'mediapipe/examples/desktop/youtube8m:extract_yt8m_features'], returncode=0, stdout=b'')"
      ]
     },
     "execution_count": 90,
     "metadata": {},
     "output_type": "execute_result"
    }
   ],
   "source": [
    "cmd = \"docker exec mediapipe bazel build -c opt --linkopt=-s \\\n",
    "  --define MEDIAPIPE_DISABLE_GPU=1 --define no_aws_support=true \\\n",
    "  mediapipe/examples/desktop/youtube8m:extract_yt8m_features\"\n",
    "run_process(cmd)"
   ]
  },
  {
   "cell_type": "code",
   "execution_count": 91,
   "metadata": {},
   "outputs": [
    {
     "data": {
      "text/plain": [
       "CompletedProcess(args=['docker', 'exec', 'mediapipe', 'bazel-bin/mediapipe/examples/desktop/youtube8m/extract_yt8m_features', '--calculator_graph_config_file=mediapipe/graphs/youtube8m/feature_extraction.pbtxt', '--input_side_packets=input_sequence_example=/tmp/mediapipe/metadata.pb', '--output_side_packets=output_sequence_example=/v_folder/features.pb'], returncode=0, stdout=b'')"
      ]
     },
     "execution_count": 91,
     "metadata": {},
     "output_type": "execute_result"
    }
   ],
   "source": [
    "cmd = \"docker exec mediapipe bazel-bin/mediapipe/examples/desktop/youtube8m/extract_yt8m_features \\\n",
    "  --calculator_graph_config_file=mediapipe/graphs/youtube8m/feature_extraction.pbtxt \\\n",
    "  --input_side_packets=input_sequence_example=/tmp/mediapipe/metadata.pb  \\\n",
    "  --output_side_packets=output_sequence_example=/v_folder/features.pb\"\n",
    "\n",
    "run_process(cmd)"
   ]
  },
  {
   "cell_type": "code",
   "execution_count": null,
   "metadata": {},
   "outputs": [],
   "source": []
  },
  {
   "cell_type": "markdown",
   "metadata": {},
   "source": [
    "# Reformat extracted file to necessary format"
   ]
  },
  {
   "cell_type": "code",
   "execution_count": 116,
   "metadata": {},
   "outputs": [],
   "source": [
    "import tensorflow as tf\n",
    "import numpy as np\n",
    "\n",
    "features_file = os.path.join(temp_dir.name, 'features.pb')\n",
    "\n",
    "sequence_example = open(features_file, 'rb').read()\n",
    "example = tf.train.SequenceExample.FromString(sequence_example)"
   ]
  },
  {
   "cell_type": "code",
   "execution_count": 117,
   "metadata": {},
   "outputs": [
    {
     "name": "stdout",
     "output_type": "stream",
     "text": [
      "RGB/feature/timestamp\n",
      "AUDIO/feature/floats\n",
      "RGB/feature/floats\n",
      "AUDIO/feature/timestamp\n"
     ]
    }
   ],
   "source": [
    "for k in example.feature_lists.feature_list.keys():\n",
    "    print(k)"
   ]
  },
  {
   "cell_type": "code",
   "execution_count": 133,
   "metadata": {},
   "outputs": [],
   "source": [
    "a = example.feature_lists.feature_list[\"RGB/feature/floats\"].feature"
   ]
  },
  {
   "cell_type": "code",
   "execution_count": 134,
   "metadata": {},
   "outputs": [],
   "source": [
    "b = example.feature_lists.feature_list[\"AUDIO/feature/floats\"].feature"
   ]
  },
  {
   "cell_type": "code",
   "execution_count": 123,
   "metadata": {},
   "outputs": [],
   "source": [
    "a = np.array(list((l.float_list.value for l in a)))"
   ]
  },
  {
   "cell_type": "code",
   "execution_count": 125,
   "metadata": {},
   "outputs": [],
   "source": [
    "b = np.array(list((l.float_list.value for l in b)))"
   ]
  },
  {
   "cell_type": "code",
   "execution_count": 131,
   "metadata": {},
   "outputs": [],
   "source": [
    "mean_rgb = np.mean(a, axis=0)"
   ]
  },
  {
   "cell_type": "code",
   "execution_count": 132,
   "metadata": {},
   "outputs": [],
   "source": [
    "mean_audio = np.mean(b, axis=0)"
   ]
  },
  {
   "cell_type": "code",
   "execution_count": 140,
   "metadata": {},
   "outputs": [
    {
     "data": {
      "text/plain": [
       "(128,)"
      ]
     },
     "execution_count": 140,
     "metadata": {},
     "output_type": "execute_result"
    }
   ],
   "source": [
    "mean_audio"
   ]
  },
  {
   "cell_type": "code",
   "execution_count": 162,
   "metadata": {},
   "outputs": [
    {
     "data": {
      "text/plain": [
       "(1, 1024)"
      ]
     },
     "execution_count": 162,
     "metadata": {},
     "output_type": "execute_result"
    }
   ],
   "source": [
    "np.array([mean_rgb]).shape"
   ]
  },
  {
   "cell_type": "code",
   "execution_count": 163,
   "metadata": {},
   "outputs": [
    {
     "data": {
      "text/plain": [
       "(1, 128)"
      ]
     },
     "execution_count": 163,
     "metadata": {},
     "output_type": "execute_result"
    }
   ],
   "source": [
    "np.array([mean_audio]).shape"
   ]
  },
  {
   "cell_type": "code",
   "execution_count": null,
   "metadata": {},
   "outputs": [],
   "source": []
  }
 ],
 "metadata": {
  "kernelspec": {
   "display_name": "Python 3",
   "language": "python",
   "name": "python3"
  },
  "language_info": {
   "codemirror_mode": {
    "name": "ipython",
    "version": 3
   },
   "file_extension": ".py",
   "mimetype": "text/x-python",
   "name": "python",
   "nbconvert_exporter": "python",
   "pygments_lexer": "ipython3",
   "version": "3.7.7"
  }
 },
 "nbformat": 4,
 "nbformat_minor": 4
}
